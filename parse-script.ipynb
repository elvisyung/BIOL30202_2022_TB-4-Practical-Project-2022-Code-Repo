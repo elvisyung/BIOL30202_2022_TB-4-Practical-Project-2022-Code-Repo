{
 "cells": [
  {
   "cell_type": "code",
   "execution_count": 130,
   "id": "4558a341",
   "metadata": {
    "scrolled": true
   },
   "outputs": [],
   "source": [
    "# Stripping Script for ALL, One and Two - many more\n",
    "import pandas as pd\n",
    "from glob import glob\n",
    "\n",
    "# Declaring Global Variables\n",
    "main_results = '/Users/elvisyung/Desktop/t1-research/results/' # Change for dir for stripping\n",
    "results_fol = 'GCF_905221025.1_NTGZN8_protein_results/' # Change for dir for stripping\n",
    "\n",
    "main_parsed = '/Users/elvisyung/Desktop/t1-research/parsed/' # Change for dir for stripping\n",
    "parsed_fol = 'GCF_905221025.1_NTGZN8_protein_parsed/' # Change for dir for stripping\n",
    "\n",
    "# File Path for Glob (File Path with Results *_out.csv)\n",
    "# files = glob('/Users/elvisyung/Desktop/t1-research/results/GCF_000174435.1_ASM17443v1_protein_results/*_out.csv') \n",
    "files = glob(main_results + results_fol + '*_out.csv') \n",
    "\n",
    "# Extracting File Names (Results Section)\n",
    "# ch = '/Users/elvisyung/Desktop/t1-research/results/GCF_000174435.1_ASM17443v1_protein_results/'\n",
    "ch = (main_results + results_fol)\n",
    "\n",
    "# Extracting File Names Only\n",
    "files_split = [elem.replace(ch,'') for elem in files]\n",
    "\n",
    "# Naming Columns\n",
    "name_columns=['Query', 'Genus', 'out', 'out2', 'out3', 'out4', 'out5', 'out6', 'out7', 'out8', 'out9', 'out10']\n",
    "\n",
    "# Main Codebase\n",
    "for file in files_split:\n",
    "    df = pd.read_csv(ch + file, sep = '\\t', names = name_columns)\n",
    "    df = df.drop(['Query', 'out', 'out2', 'out3', 'out4', 'out5', 'out6', 'out7', 'out8', 'out9', 'out10'], axis=1)\n",
    "    df = df.replace('\\d+', '', regex=True)\n",
    "    df = df.replace('_g', '', regex=True)\n",
    "    df = df.drop_duplicates()\n",
    "    df.to_csv(main_parsed + parsed_fol + file[:18] + '_parsed.csv', index = False, header = False)"
   ]
  },
  {
   "cell_type": "code",
   "execution_count": 131,
   "id": "69d72974",
   "metadata": {},
   "outputs": [],
   "source": [
    "# Two Species Parse (Table Creation)\n",
    "import pandas as pd\n",
    "from glob import glob\n",
    "\n",
    "# Declaring Global Variables \n",
    "main_results_2 = '/Users/elvisyung/Desktop/t1-research/two/' # Change for dir\n",
    "results_fol_2 = 'GCF_905221025.1_NTGZN8_protein_two/' # Change for dir\n",
    "\n",
    "main_parsed_2 = '/Users/elvisyung/Desktop/t1-research/two_value/' # Change for dir\n",
    "parsed_fol_2 = 'GCF_905221025.1_NTGZN8_protein_parsed_two_value/' # Change for dir\n",
    "\n",
    "# File Path for Glob (File Path with Results *_out.csv)\n",
    "files_2 = glob(main_results_2 + results_fol_2 + '*_parsed.csv') \n",
    "ch_2 = (main_results_2 + results_fol_2)\n",
    "\n",
    "# Getting File Names\n",
    "files_split_2 = [elem.replace(ch_2,'') for elem in files_2]\n",
    "\n",
    "# Naming \n",
    "name_columns_2 = ['Genus']\n",
    "genus_list = []\n",
    "\n",
    "for file2 in files_split_2:\n",
    "    df_2 = pd.read_csv(ch_2 + file2, names = name_columns_2)\n",
    "    genus_list.append(df_2.Genus.values.tolist())\n",
    "    genus_merge = [genus for genus_list in genus_list for genus in genus_list]\n",
    "\n",
    "genus_dict = {genus: genus_merge.count(genus) for genus in genus_merge}\n",
    "two_df = pd.DataFrame.from_dict(genus_dict, orient = 'index', columns = ['GCF_905221025.1_NTGZN8_protein'])\n",
    "two_df_cor = two_df.rename_axis('Genus').reset_index()\n",
    "# Change parased_fol_3[:index] according to directory length\n",
    "two_df_cor.to_csv(main_parsed_2 + parsed_fol_2 + parsed_fol_2[:30] + '_two_value.csv', index = False)"
   ]
  },
  {
   "cell_type": "code",
   "execution_count": 5,
   "id": "5054061a",
   "metadata": {},
   "outputs": [],
   "source": [
    "# Parses AllProteins.faa for Reference Comparison\n",
    "from Bio import SeqIO\n",
    "from collections import defaultdict\n",
    "\n",
    "dict_seq = {}\n",
    "\n",
    "seqs = [(str(seq.id), str(seq.seq)) for seq in SeqIO.parse(\"/Users/elvisyung/desktop/t1-research/AllProteins.faa\",'fasta')]\n",
    "\n",
    "d = defaultdict(list)\n",
    "            \n",
    "for header,sequence in seqs:\n",
    "    d[header].append(sequence)\n",
    "\n",
    "for header, sequence in d.items():\n",
    "    dict_seq[header] = '\\n'.join(sequence)"
   ]
  },
  {
   "cell_type": "code",
   "execution_count": 17,
   "id": "4ec513b3",
   "metadata": {},
   "outputs": [],
   "source": [
    "# AllProteins.faa Reference Comparison Clean Up\n",
    "import pandas as pd\n",
    "\n",
    "df_ref = pd.DataFrame.from_dict(dict_seq, orient = 'index', columns = ['remove'])\n",
    "\n",
    "df_ref_drop = df_ref.drop(['remove'], axis=1)\n",
    "df_ref_cor = df_ref_drop.rename_axis('Genus').reset_index()\n",
    "\n",
    "df_main = df_ref_cor.replace('\\d+', '', regex=True)\n",
    "df_main = df_main.replace('_g', '', regex=True)\n",
    "df_main = df_main.drop_duplicates()\n",
    "\n",
    "# ALLProteins.faa Main List\n",
    "df_main_list = list(df_main['Genus'])"
   ]
  }
 ],
 "metadata": {
  "kernelspec": {
   "display_name": "Python 3",
   "language": "python",
   "name": "python3"
  },
  "language_info": {
   "codemirror_mode": {
    "name": "ipython",
    "version": 3
   },
   "file_extension": ".py",
   "mimetype": "text/x-python",
   "name": "python",
   "nbconvert_exporter": "python",
   "pygments_lexer": "ipython3",
   "version": "3.8.8"
  },
  "vscode": {
   "interpreter": {
    "hash": "aee8b7b246df8f9039afb4144a1f6fd8d2ca17a180786b69acc140d282b71a49"
   }
  }
 },
 "nbformat": 4,
 "nbformat_minor": 5
}
