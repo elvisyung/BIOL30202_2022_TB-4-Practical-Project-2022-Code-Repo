{
 "cells": [
  {
   "cell_type": "code",
   "execution_count": 41,
   "id": "f4f8d210",
   "metadata": {},
   "outputs": [],
   "source": [
    "# Jupyter Notebook - Cleanup and Data Preparations for Statistical Analyse and Graphing\n",
    "\n",
    "import pandas as pd\n",
    "from glob import glob\n",
    "\n",
    "file_path = \"/Users/elvisyung/Desktop/comparison/\"\n",
    "\n",
    "files = glob(file_path + '*_two_value.csv') \n",
    "ch = file_path\n",
    "\n",
    "files_split = [elem.replace(ch,'') for elem in files]"
   ]
  },
  {
   "cell_type": "code",
   "execution_count": 102,
   "id": "fa598a71",
   "metadata": {
    "scrolled": true
   },
   "outputs": [],
   "source": [
    "df = pd.read_csv(\"/Users/elvisyung/Desktop/comparison/GCF_905221025.1_NTGZN8_protein_two_value.csv\")\n",
    "df_merged = pd.merge(df, df_comparison, on = \"Genus\", how = \"right\")\n",
    "df_merged = df_merged.fillna(0)\n",
    "df_merged.to_csv(\"copy.csv\", index = False)"
   ]
  },
  {
   "cell_type": "code",
   "execution_count": 55,
   "id": "d0f7737f",
   "metadata": {
    "scrolled": true
   },
   "outputs": [],
   "source": [
    "df_merged = pd.merge(df, df_comparison, on = \"Genus\", how = \"right\")"
   ]
  },
  {
   "cell_type": "code",
   "execution_count": 57,
   "id": "53607d61",
   "metadata": {},
   "outputs": [],
   "source": [
    "df_merged = df_merged.fillna(0)"
   ]
  },
  {
   "cell_type": "code",
   "execution_count": 43,
   "id": "8709284a",
   "metadata": {},
   "outputs": [],
   "source": [
    "comparison = ['AABMX',\n",
    " 'Abys',\n",
    " 'Acid',\n",
    " 'Acti',\n",
    " 'Aero',\n",
    " 'Aqui',\n",
    " 'Arma',\n",
    " 'Aure',\n",
    " 'BX',\n",
    " 'Bact',\n",
    " 'Bdell',\n",
    " 'BdellC',\n",
    " 'Bipo',\n",
    " 'BMSX',\n",
    " 'Calda',\n",
    " 'Caldis',\n",
    " 'Caldit',\n",
    " 'Cale',\n",
    " 'Camp',\n",
    " 'CGX',\n",
    " 'Chlo',\n",
    " 'Chry',\n",
    " 'Cloa',\n",
    " 'Copr',\n",
    " 'CSPX',\n",
    " 'Cyan',\n",
    " 'Defe',\n",
    " 'Dein',\n",
    " 'Delo',\n",
    " 'Depe',\n",
    " 'Desa',\n",
    " 'Desua',\n",
    " 'DesuB',\n",
    " 'DesuC',\n",
    " 'DesuD',\n",
    " 'Dict',\n",
    " 'Dorm',\n",
    " 'DTUX',\n",
    " 'Edwa',\n",
    " 'Eise',\n",
    " 'Elus',\n",
    " 'Erem',\n",
    " 'FCPU',\n",
    " 'Ferm',\n",
    " 'Fibr',\n",
    " 'Fire',\n",
    " 'FirmA',\n",
    " 'FirmB',\n",
    " 'FirmC',\n",
    " 'FirmD',\n",
    " 'FirmE',\n",
    " 'FirmF',\n",
    " 'FirmG',\n",
    " 'Firms',\n",
    " 'Fuso',\n",
    " 'Gemm',\n",
    " 'GemmA',\n",
    " 'Gold',\n",
    " 'Hydr',\n",
    " 'JX',\n",
    " 'Krum',\n",
    " 'KSBX',\n",
    " 'Late',\n",
    " 'Lind',\n",
    " 'Marg',\n",
    " 'Mari',\n",
    " 'Meth',\n",
    " 'Muir',\n",
    " 'MyxA',\n",
    " 'Myxo',\n",
    " 'Nitr',\n",
    " 'Nits',\n",
    " 'NitsA',\n",
    " 'NPL',\n",
    " 'OLBX',\n",
    " 'Omni',\n",
    " 'PX',\n",
    " 'Pate',\n",
    " 'Plan',\n",
    " 'Pori',\n",
    " 'ProtA',\n",
    " 'ProtG',\n",
    " 'ProtM',\n",
    " 'ProtZ',\n",
    " 'RBG',\n",
    " 'Rifl',\n",
    " 'RUGX',\n",
    " 'SARX',\n",
    " 'Sche',\n",
    " 'SLNR',\n",
    " 'SMX',\n",
    " 'Spir',\n",
    " 'Sume',\n",
    " 'Syne',\n",
    " 'SZUA',\n",
    " 'TAA',\n",
    " 'TAX',\n",
    " 'Therd',\n",
    " 'Therg',\n",
    " 'Thers',\n",
    " 'UBAX',\n",
    " 'UBPX',\n",
    " 'UBPA',\n",
    " 'Verr',\n",
    " 'VerrA',\n",
    " 'Wall',\n",
    " 'WOR',\n",
    " 'Zixi']\n",
    "\n",
    "df_comparison = pd.DataFrame(comparison, columns = ['Genus'])"
   ]
  },
  {
   "cell_type": "code",
   "execution_count": 1,
   "id": "b6dd6e18",
   "metadata": {},
   "outputs": [],
   "source": [
    "import pandas as pd"
   ]
  },
  {
   "cell_type": "code",
   "execution_count": 103,
   "id": "df779d29",
   "metadata": {},
   "outputs": [],
   "source": [
    "df_epsilon = pd.read_csv(\"/Users/elvisyung/Desktop/epsilon_data.csv\")"
   ]
  },
  {
   "cell_type": "code",
   "execution_count": 104,
   "id": "cb4dc71a",
   "metadata": {},
   "outputs": [],
   "source": [
    "df_epsilon['Total'] = df_epsilon.apply(lambda x: x['GCF_000174435.1_ASM17443v1_protein_Epsilon'] + x['GCF_000284355.1_ASM28435v1_protein_Epsilon'], axis=1)"
   ]
  },
  {
   "cell_type": "code",
   "execution_count": 107,
   "id": "f3cda8ee",
   "metadata": {},
   "outputs": [],
   "source": [
    "df_epsilon = df_epsilon.drop(['GCF_000174435.1_ASM17443v1_protein_Epsilon', 'Genus.1', 'GCF_000284355.1_ASM28435v1_protein_Epsilon'], axis=1)"
   ]
  },
  {
   "cell_type": "code",
   "execution_count": 108,
   "id": "e9131686",
   "metadata": {},
   "outputs": [],
   "source": [
    "df_epsilon.to_csv(\"df_epsilon_merged.csv\", index = False)"
   ]
  },
  {
   "cell_type": "code",
   "execution_count": 109,
   "id": "6502a23c",
   "metadata": {},
   "outputs": [],
   "source": [
    "df_acid = pd.read_csv(\"/Users/elvisyung/Desktop/acid_data.csv\", )"
   ]
  },
  {
   "cell_type": "code",
   "execution_count": 110,
   "id": "fc42b774",
   "metadata": {},
   "outputs": [],
   "source": [
    "df_acid = df_acid.rename(columns={\"GCF_001931655.1_ASM193165v1_protein_Acid\": \"Total\"})"
   ]
  },
  {
   "cell_type": "code",
   "execution_count": 111,
   "id": "abee25ba",
   "metadata": {},
   "outputs": [],
   "source": [
    "df_acid.to_csv(\"df_acid_merged.csv\", index = False)"
   ]
  },
  {
   "cell_type": "code",
   "execution_count": 112,
   "id": "c42234fd",
   "metadata": {},
   "outputs": [],
   "source": [
    "df_beta = pd.read_csv(\"/Users/elvisyung/Desktop/beta_data.csv\")"
   ]
  },
  {
   "cell_type": "code",
   "execution_count": 114,
   "id": "207095d4",
   "metadata": {},
   "outputs": [],
   "source": [
    "df_beta['Total'] = df_beta.apply(lambda x: x['GCF_001551835.1_ASM155183v1_protein_Beta'] + x['GCF_001581915.1_ASM158191v1_protein_Beta'] + x['GCF_003202035.1_ASM320203v1_protein_Beta'] + x['GCF_014202905.1_ASM1420290v1_protein_Beta'] + x['GCF_902859965.1_LMG_26854_protein_Beta'] + x['GCF_905221025.1_NTGZN8_protein_Beta'], axis=1)"
   ]
  },
  {
   "cell_type": "code",
   "execution_count": 115,
   "id": "43400856",
   "metadata": {},
   "outputs": [],
   "source": [
    "df_beta = df_beta.drop(['GCF_001551835.1_ASM155183v1_protein_Beta', 'Genus.1', 'GCF_001581915.1_ASM158191v1_protein_Beta', 'Genus.2', 'GCF_003202035.1_ASM320203v1_protein_Beta', 'Genus.3', 'GCF_014202905.1_ASM1420290v1_protein_Beta', 'Genus.4', 'GCF_902859965.1_LMG_26854_protein_Beta', 'Genus.5', 'GCF_905221025.1_NTGZN8_protein_Beta'], axis=1)"
   ]
  },
  {
   "cell_type": "code",
   "execution_count": 116,
   "id": "22057f8b",
   "metadata": {},
   "outputs": [],
   "source": [
    "df_beta.to_csv(\"df_beta_merged.csv\", index = False)"
   ]
  },
  {
   "cell_type": "code",
   "execution_count": 117,
   "id": "3f8100a7",
   "metadata": {},
   "outputs": [],
   "source": [
    "df_gamma = pd.read_csv(\"/Users/elvisyung/Desktop/gamma_data.csv\")"
   ]
  },
  {
   "cell_type": "code",
   "execution_count": 118,
   "id": "118ae412",
   "metadata": {},
   "outputs": [],
   "source": [
    "df_gamma['Total'] = df_gamma.apply(lambda x: x['GCF_000987775.1_ASM98777v1_protein_Gamma'] + x['GCF_001705075.2_ASM170507v2_protein_Gamma'] + x['GCF_011602365.1_ASM1160236v1_protein_Gamma'] + x['GCF_016026615.1_ASM1602661v1_protein_Gamma'] + x['GCF_019670125.1_ASM1967012v1_protein_Gamma'] + x['GCF_014651515.1_ASM1465151v1_protein_Gamma'], axis=1)"
   ]
  },
  {
   "cell_type": "code",
   "execution_count": 119,
   "id": "befd3388",
   "metadata": {},
   "outputs": [],
   "source": [
    "df_gamma = df_gamma.drop(['GCF_000987775.1_ASM98777v1_protein_Gamma', 'Genus.1', 'GCF_001705075.2_ASM170507v2_protein_Gamma', 'Genus.2', 'GCF_011602365.1_ASM1160236v1_protein_Gamma', 'Genus.3', 'GCF_014651515.1_ASM1465151v1_protein_Gamma', 'Genus.4', 'GCF_016026615.1_ASM1602661v1_protein_Gamma', 'Genus.5', 'GCF_019670125.1_ASM1967012v1_protein_Gamma'], axis=1)"
   ]
  },
  {
   "cell_type": "code",
   "execution_count": 120,
   "id": "e8b263f7",
   "metadata": {},
   "outputs": [],
   "source": [
    "df_gamma.to_csv(\"df_gamma_merged2.csv\", index = False)"
   ]
  },
  {
   "cell_type": "code",
   "execution_count": 121,
   "id": "07fc5b2e",
   "metadata": {},
   "outputs": [],
   "source": [
    "df_alpha = pd.read_csv(\"/Users/elvisyung/Desktop/alpha_data.csv\")"
   ]
  },
  {
   "cell_type": "code",
   "execution_count": 122,
   "id": "d0bafa78",
   "metadata": {},
   "outputs": [],
   "source": [
    "df_alpha['Total'] = df_alpha.apply(lambda x: x['GCF_000023785.1_ASM2378v1_protein_Alpha'] + x['GCF_000226315.1_ASM22631v1_protein_Alpha'] + x['GCF_000374145.1_ASM37414v1_protein_Alpha'] + x['GCF_000688515.1_ASM68851v1_protein_Alpha'] + x['GCF_002105465.1_ASM210546v1_protein_Alpha'] + x['GCF_002109495.1_ASM210949v1_protein_Alpha'] + x['GCF_002173775.1_ASM217377v1_protein_Alpha'] + x['GCF_002798435.1_ASM279843v1_protein_Alpha'] + x['GCF_003688555.1_ASM368855v1_protein_Alpha'] + x['GCF_004210305.1_ASM421030v1_protein_Alpha'] + x['GCF_004341375.1_ASM434137v1_protein_Alpha'] + x['GCF_006385175.1_ASM638517v1_protein_Alpha'] + x['GCF_007993655.1_ASM799365v1_protein_Alpha'] + x['GCF_008579125.1_ASM857912v1_protein_Alpha'] + x['GCF_008630495.1_ASM863049v1_protein_Alpha'] + x['GCF_011320115.1_ASM1132011v1_protein_Alpha'] + x['GCF_011762045.1_ASM1176204v1_protein_Alpha'] + x['GCF_012276695.1_ASM1227669v1_protein_Alpha'] + x['GCF_900172325.1_O.hippocampi_CECT7691_Spades_Prokka_protein_Alpha'] + x['GCF_900199215.1_IMG-taxon_2737472027_annotated_assembly_protein_Alpha'], axis=1)"
   ]
  },
  {
   "cell_type": "code",
   "execution_count": 123,
   "id": "6d95ef9c",
   "metadata": {},
   "outputs": [],
   "source": [
    "df_alpha = df_alpha.loc[:,df_alpha.columns.isin(['Genus','Total'])]"
   ]
  },
  {
   "cell_type": "code",
   "execution_count": 125,
   "id": "61e47f9b",
   "metadata": {},
   "outputs": [],
   "source": [
    "df_alpha.to_csv(\"df_alpha_merged.csv\", index = False)"
   ]
  }
 ],
 "metadata": {
  "kernelspec": {
   "display_name": "Python 3",
   "language": "python",
   "name": "python3"
  },
  "language_info": {
   "codemirror_mode": {
    "name": "ipython",
    "version": 3
   },
   "file_extension": ".py",
   "mimetype": "text/x-python",
   "name": "python",
   "nbconvert_exporter": "python",
   "pygments_lexer": "ipython3",
   "version": "3.8.8"
  }
 },
 "nbformat": 4,
 "nbformat_minor": 5
}
